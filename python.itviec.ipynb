{
 "cells": [
  {
   "cell_type": "code",
   "execution_count": 6,
   "metadata": {},
   "outputs": [],
   "source": [
    "import bs4\n",
    "import requests\n",
    "import pandas as pd\n",
    "\n",
    "resp = requests.get('https://itviec.com/it-jobs/python/?per_page=100')\n",
    "tree = bs4.BeautifulSoup(resp.text, features='html.parser')\n",
    "#div = tree.find('div', attrs={'class': 'first-group'})\n",
    "div = tree.find_all('h2', attrs={'class': 'title'})\n",
    "links=[]\n",
    "names=[]\n",
    "for line in div:\n",
    "    a = line.find_all('a')\n",
    "    link = 'https://itviec.com'+''.join([href['href'] for href in a])\n",
    "    names.append((line.text).replace('\\n', ''))\n",
    "    links.append((link))  \n"
   ]
  },
  {
   "cell_type": "code",
   "execution_count": 7,
   "metadata": {},
   "outputs": [],
   "source": [
    "itviec = pd.DataFrame(zip(names,links), columns=['names', 'links'])\n",
    "itviec.to_csv('itviec.csv')"
   ]
  },
  {
   "cell_type": "code",
   "execution_count": 8,
   "metadata": {},
   "outputs": [
    {
     "data": {
      "text/html": [
       "<style  type=\"text/css\" >\n",
       "</style><table id=\"T_fec0c5b0_c0d1_11ea_9f55_6476ba8e7e36\" ><thead>    <tr>        <th class=\"blank level0\" ></th>        <th class=\"col_heading level0 col0\" >0</th>        <th class=\"col_heading level0 col1\" >1</th>        <th class=\"col_heading level0 col2\" >2</th>        <th class=\"col_heading level0 col3\" >3</th>        <th class=\"col_heading level0 col4\" >4</th>        <th class=\"col_heading level0 col5\" >5</th>        <th class=\"col_heading level0 col6\" >6</th>        <th class=\"col_heading level0 col7\" >7</th>        <th class=\"col_heading level0 col8\" >8</th>        <th class=\"col_heading level0 col9\" >9</th>        <th class=\"col_heading level0 col10\" >10</th>        <th class=\"col_heading level0 col11\" >11</th>        <th class=\"col_heading level0 col12\" >12</th>        <th class=\"col_heading level0 col13\" >13</th>        <th class=\"col_heading level0 col14\" >14</th>        <th class=\"col_heading level0 col15\" >15</th>        <th class=\"col_heading level0 col16\" >16</th>        <th class=\"col_heading level0 col17\" >17</th>        <th class=\"col_heading level0 col18\" >18</th>        <th class=\"col_heading level0 col19\" >19</th>        <th class=\"col_heading level0 col20\" >20</th>        <th class=\"col_heading level0 col21\" >21</th>        <th class=\"col_heading level0 col22\" >22</th>        <th class=\"col_heading level0 col23\" >23</th>        <th class=\"col_heading level0 col24\" >24</th>        <th class=\"col_heading level0 col25\" >25</th>        <th class=\"col_heading level0 col26\" >26</th>        <th class=\"col_heading level0 col27\" >27</th>        <th class=\"col_heading level0 col28\" >28</th>        <th class=\"col_heading level0 col29\" >29</th>        <th class=\"col_heading level0 col30\" >30</th>        <th class=\"col_heading level0 col31\" >31</th>        <th class=\"col_heading level0 col32\" >32</th>        <th class=\"col_heading level0 col33\" >33</th>        <th class=\"col_heading level0 col34\" >34</th>        <th class=\"col_heading level0 col35\" >35</th>        <th class=\"col_heading level0 col36\" >36</th>        <th class=\"col_heading level0 col37\" >37</th>        <th class=\"col_heading level0 col38\" >38</th>        <th class=\"col_heading level0 col39\" >39</th>        <th class=\"col_heading level0 col40\" >40</th>        <th class=\"col_heading level0 col41\" >41</th>        <th class=\"col_heading level0 col42\" >42</th>        <th class=\"col_heading level0 col43\" >43</th>        <th class=\"col_heading level0 col44\" >44</th>        <th class=\"col_heading level0 col45\" >45</th>        <th class=\"col_heading level0 col46\" >46</th>        <th class=\"col_heading level0 col47\" >47</th>        <th class=\"col_heading level0 col48\" >48</th>        <th class=\"col_heading level0 col49\" >49</th>        <th class=\"col_heading level0 col50\" >50</th>        <th class=\"col_heading level0 col51\" >51</th>        <th class=\"col_heading level0 col52\" >52</th>        <th class=\"col_heading level0 col53\" >53</th>        <th class=\"col_heading level0 col54\" >54</th>        <th class=\"col_heading level0 col55\" >55</th>        <th class=\"col_heading level0 col56\" >56</th>        <th class=\"col_heading level0 col57\" >57</th>        <th class=\"col_heading level0 col58\" >58</th>        <th class=\"col_heading level0 col59\" >59</th>        <th class=\"col_heading level0 col60\" >60</th>        <th class=\"col_heading level0 col61\" >61</th>        <th class=\"col_heading level0 col62\" >62</th>        <th class=\"col_heading level0 col63\" >63</th>        <th class=\"col_heading level0 col64\" >64</th>        <th class=\"col_heading level0 col65\" >65</th>        <th class=\"col_heading level0 col66\" >66</th>        <th class=\"col_heading level0 col67\" >67</th>        <th class=\"col_heading level0 col68\" >68</th>        <th class=\"col_heading level0 col69\" >69</th>        <th class=\"col_heading level0 col70\" >70</th>        <th class=\"col_heading level0 col71\" >71</th>        <th class=\"col_heading level0 col72\" >72</th>        <th class=\"col_heading level0 col73\" >73</th>        <th class=\"col_heading level0 col74\" >74</th>        <th class=\"col_heading level0 col75\" >75</th>    </tr></thead><tbody>\n",
       "                <tr>\n",
       "                        <th id=\"T_fec0c5b0_c0d1_11ea_9f55_6476ba8e7e36level0_row0\" class=\"row_heading level0 row0\" >0</th>\n",
       "                        <td id=\"T_fec0c5b0_c0d1_11ea_9f55_6476ba8e7e36row0_col0\" class=\"data row0 col0\" ><a href=\"https://itviec.com/it-jobs/senior-python-developer-kms-technology-5154\">https://itviec.com/it-jobs/senior-python-developer-kms-technology-5154</a></td>\n",
       "                        <td id=\"T_fec0c5b0_c0d1_11ea_9f55_6476ba8e7e36row0_col1\" class=\"data row0 col1\" ><a href=\"https://itviec.com/it-jobs/web-fullstack-developer-php-python-minerva-technology-solutions-4805\">https://itviec.com/it-jobs/web-fullstack-developer-php-python-minerva-technology-solutions-4805</a></td>\n",
       "                        <td id=\"T_fec0c5b0_c0d1_11ea_9f55_6476ba8e7e36row0_col2\" class=\"data row0 col2\" ><a href=\"https://itviec.com/it-jobs/automation-tester-qa-qc-java-python-got-it-inc-2904\">https://itviec.com/it-jobs/automation-tester-qa-qc-java-python-got-it-inc-2904</a></td>\n",
       "                        <td id=\"T_fec0c5b0_c0d1_11ea_9f55_6476ba8e7e36row0_col3\" class=\"data row0 col3\" ><a href=\"https://itviec.com/it-jobs/python-developer-quantic-2710\">https://itviec.com/it-jobs/python-developer-quantic-2710</a></td>\n",
       "                        <td id=\"T_fec0c5b0_c0d1_11ea_9f55_6476ba8e7e36row0_col4\" class=\"data row0 col4\" ><a href=\"https://itviec.com/it-jobs/8-php-backend-dev-wordpress-python-propolife-viet-nam-4700\">https://itviec.com/it-jobs/8-php-backend-dev-wordpress-python-propolife-viet-nam-4700</a></td>\n",
       "                        <td id=\"T_fec0c5b0_c0d1_11ea_9f55_6476ba8e7e36row0_col5\" class=\"data row0 col5\" ><a href=\"https://itviec.com/it-jobs/system-engineer-linux-python-citigo-software-1918\">https://itviec.com/it-jobs/system-engineer-linux-python-citigo-software-1918</a></td>\n",
       "                        <td id=\"T_fec0c5b0_c0d1_11ea_9f55_6476ba8e7e36row0_col6\" class=\"data row0 col6\" ><a href=\"https://itviec.com/it-jobs/machine-learning-developer-cloudstorm-2827\">https://itviec.com/it-jobs/machine-learning-developer-cloudstorm-2827</a></td>\n",
       "                        <td id=\"T_fec0c5b0_c0d1_11ea_9f55_6476ba8e7e36row0_col7\" class=\"data row0 col7\" ><a href=\"https://itviec.com/it-jobs/automation-test-java-python-humax-vietnam-3904\">https://itviec.com/it-jobs/automation-test-java-python-humax-vietnam-3904</a></td>\n",
       "                        <td id=\"T_fec0c5b0_c0d1_11ea_9f55_6476ba8e7e36row0_col8\" class=\"data row0 col8\" ><a href=\"https://itviec.com/it-jobs/c-developer-python-linux-dek-technologies-5206\">https://itviec.com/it-jobs/c-developer-python-linux-dek-technologies-5206</a></td>\n",
       "                        <td id=\"T_fec0c5b0_c0d1_11ea_9f55_6476ba8e7e36row0_col9\" class=\"data row0 col9\" ><a href=\"https://itviec.com/it-jobs/up-to-1500-python-developer-aws-neos-corp-0301\">https://itviec.com/it-jobs/up-to-1500-python-developer-aws-neos-corp-0301</a></td>\n",
       "                        <td id=\"T_fec0c5b0_c0d1_11ea_9f55_6476ba8e7e36row0_col10\" class=\"data row0 col10\" ><a href=\"https://itviec.com/it-jobs/back-end-engineer-upinus-1554\">https://itviec.com/it-jobs/back-end-engineer-upinus-1554</a></td>\n",
       "                        <td id=\"T_fec0c5b0_c0d1_11ea_9f55_6476ba8e7e36row0_col11\" class=\"data row0 col11\" ><a href=\"https://itviec.com/it-jobs/python-developer-cmc-sai-gon-technology-solution-5323\">https://itviec.com/it-jobs/python-developer-cmc-sai-gon-technology-solution-5323</a></td>\n",
       "                        <td id=\"T_fec0c5b0_c0d1_11ea_9f55_6476ba8e7e36row0_col12\" class=\"data row0 col12\" ><a href=\"https://itviec.com/it-jobs/senior-data-engineer-upto-2000-net-giao-hang-tiet-kiem-5308\">https://itviec.com/it-jobs/senior-data-engineer-upto-2000-net-giao-hang-tiet-kiem-5308</a></td>\n",
       "                        <td id=\"T_fec0c5b0_c0d1_11ea_9f55_6476ba8e7e36row0_col13\" class=\"data row0 col13\" ><a href=\"https://itviec.com/it-jobs/backend-dev-java-typescript-c-python-sunshine-group-4041\">https://itviec.com/it-jobs/backend-dev-java-typescript-c-python-sunshine-group-4041</a></td>\n",
       "                        <td id=\"T_fec0c5b0_c0d1_11ea_9f55_6476ba8e7e36row0_col14\" class=\"data row0 col14\" ><a href=\"https://itviec.com/it-jobs/machine-learning-data-engineer-python-weventure-2436\">https://itviec.com/it-jobs/machine-learning-data-engineer-python-weventure-2436</a></td>\n",
       "                        <td id=\"T_fec0c5b0_c0d1_11ea_9f55_6476ba8e7e36row0_col15\" class=\"data row0 col15\" ><a href=\"https://itviec.com/it-jobs/5g-radio-automation-tester-python-ci-dek-technologies-2745\">https://itviec.com/it-jobs/5g-radio-automation-tester-python-ci-dek-technologies-2745</a></td>\n",
       "                        <td id=\"T_fec0c5b0_c0d1_11ea_9f55_6476ba8e7e36row0_col16\" class=\"data row0 col16\" ><a href=\"https://itviec.com/it-jobs/can-gap-2-developers-java-python-imlink-vietnam-1014\">https://itviec.com/it-jobs/can-gap-2-developers-java-python-imlink-vietnam-1014</a></td>\n",
       "                        <td id=\"T_fec0c5b0_c0d1_11ea_9f55_6476ba8e7e36row0_col17\" class=\"data row0 col17\" ><a href=\"https://itviec.com/it-jobs/software-backend-engineer-python-golang-datvietvac-3013\">https://itviec.com/it-jobs/software-backend-engineer-python-golang-datvietvac-3013</a></td>\n",
       "                        <td id=\"T_fec0c5b0_c0d1_11ea_9f55_6476ba8e7e36row0_col18\" class=\"data row0 col18\" ><a href=\"https://itviec.com/it-jobs/parttime-giang-vien-python-reactjs-java-he-thong-dao-tao-cntt-t3h-5759\">https://itviec.com/it-jobs/parttime-giang-vien-python-reactjs-java-he-thong-dao-tao-cntt-t3h-5759</a></td>\n",
       "                        <td id=\"T_fec0c5b0_c0d1_11ea_9f55_6476ba8e7e36row0_col19\" class=\"data row0 col19\" ><a href=\"https://itviec.com/it-jobs/php-python-developer-sql-cong-ty-tnhh-dynastras-viet-nam-5210\">https://itviec.com/it-jobs/php-python-developer-sql-cong-ty-tnhh-dynastras-viet-nam-5210</a></td>\n",
       "                        <td id=\"T_fec0c5b0_c0d1_11ea_9f55_6476ba8e7e36row0_col20\" class=\"data row0 col20\" ><a href=\"https://itviec.com/it-jobs/data-scientist-r-python-upto-2000-gene-solutions-3035\">https://itviec.com/it-jobs/data-scientist-r-python-upto-2000-gene-solutions-3035</a></td>\n",
       "                        <td id=\"T_fec0c5b0_c0d1_11ea_9f55_6476ba8e7e36row0_col21\" class=\"data row0 col21\" ><a href=\"https://itviec.com/it-jobs/data-engineer-linux-python-kromlab-2505\">https://itviec.com/it-jobs/data-engineer-linux-python-kromlab-2505</a></td>\n",
       "                        <td id=\"T_fec0c5b0_c0d1_11ea_9f55_6476ba8e7e36row0_col22\" class=\"data row0 col22\" ><a href=\"https://itviec.com/it-jobs/02-ai-dl-python-engineer-600-1500-eastgate-software-1104\">https://itviec.com/it-jobs/02-ai-dl-python-engineer-600-1500-eastgate-software-1104</a></td>\n",
       "                        <td id=\"T_fec0c5b0_c0d1_11ea_9f55_6476ba8e7e36row0_col23\" class=\"data row0 col23\" ><a href=\"https://itviec.com/it-jobs/data-analytics-engineer-python-aws-panasonic-vietnam-group-panasonic-r-d-center-vietnam-prdcv-2834\">https://itviec.com/it-jobs/data-analytics-engineer-python-aws-panasonic-vietnam-group-panasonic-r-d-center-vietnam-prdcv-2834</a></td>\n",
       "                        <td id=\"T_fec0c5b0_c0d1_11ea_9f55_6476ba8e7e36row0_col24\" class=\"data row0 col24\" ><a href=\"https://itviec.com/it-jobs/01-python-developer-up-to-1800-sun-inc-3834\">https://itviec.com/it-jobs/01-python-developer-up-to-1800-sun-inc-3834</a></td>\n",
       "                        <td id=\"T_fec0c5b0_c0d1_11ea_9f55_6476ba8e7e36row0_col25\" class=\"data row0 col25\" ><a href=\"https://itviec.com/it-jobs/02-junior-backend-python-golang-java-cong-ty-co-phan-dich-vu-di-dong-the-he-moi-0331\">https://itviec.com/it-jobs/02-junior-backend-python-golang-java-cong-ty-co-phan-dich-vu-di-dong-the-he-moi-0331</a></td>\n",
       "                        <td id=\"T_fec0c5b0_c0d1_11ea_9f55_6476ba8e7e36row0_col26\" class=\"data row0 col26\" ><a href=\"https://itviec.com/it-jobs/fullstack-developer-python-ruby-golang-onpoint-2543\">https://itviec.com/it-jobs/fullstack-developer-python-ruby-golang-onpoint-2543</a></td>\n",
       "                        <td id=\"T_fec0c5b0_c0d1_11ea_9f55_6476ba8e7e36row0_col27\" class=\"data row0 col27\" ><a href=\"https://itviec.com/it-jobs/automation-tester-qa-qc-python-advesa-digital-solutions-4011\">https://itviec.com/it-jobs/automation-tester-qa-qc-python-advesa-digital-solutions-4011</a></td>\n",
       "                        <td id=\"T_fec0c5b0_c0d1_11ea_9f55_6476ba8e7e36row0_col28\" class=\"data row0 col28\" ><a href=\"https://itviec.com/it-jobs/backend-dev-python-django-sql-advesa-digital-solutions-4000\">https://itviec.com/it-jobs/backend-dev-python-django-sql-advesa-digital-solutions-4000</a></td>\n",
       "                        <td id=\"T_fec0c5b0_c0d1_11ea_9f55_6476ba8e7e36row0_col29\" class=\"data row0 col29\" ><a href=\"https://itviec.com/it-jobs/backend-engineer-go-java-python-shopee-4422\">https://itviec.com/it-jobs/backend-engineer-go-java-python-shopee-4422</a></td>\n",
       "                        <td id=\"T_fec0c5b0_c0d1_11ea_9f55_6476ba8e7e36row0_col30\" class=\"data row0 col30\" ><a href=\"https://itviec.com/it-jobs/urgent-02-python-dev-beetsoft-5201\">https://itviec.com/it-jobs/urgent-02-python-dev-beetsoft-5201</a></td>\n",
       "                        <td id=\"T_fec0c5b0_c0d1_11ea_9f55_6476ba8e7e36row0_col31\" class=\"data row0 col31\" ><a href=\"https://itviec.com/it-jobs/python-developer-erp-linux-blueseed-1630\">https://itviec.com/it-jobs/python-developer-erp-linux-blueseed-1630</a></td>\n",
       "                        <td id=\"T_fec0c5b0_c0d1_11ea_9f55_6476ba8e7e36row0_col32\" class=\"data row0 col32\" ><a href=\"https://itviec.com/it-jobs/software-engineer-c-python-golang-opswat-software-vietnam-0238\">https://itviec.com/it-jobs/software-engineer-c-python-golang-opswat-software-vietnam-0238</a></td>\n",
       "                        <td id=\"T_fec0c5b0_c0d1_11ea_9f55_6476ba8e7e36row0_col33\" class=\"data row0 col33\" ><a href=\"https://itviec.com/it-jobs/5-backend-developers-python-sql-c-c-altisss-3337\">https://itviec.com/it-jobs/5-backend-developers-python-sql-c-c-altisss-3337</a></td>\n",
       "                        <td id=\"T_fec0c5b0_c0d1_11ea_9f55_6476ba8e7e36row0_col34\" class=\"data row0 col34\" ><a href=\"https://itviec.com/it-jobs/jr-site-reliability-engineer-python-yeah1-network-0513\">https://itviec.com/it-jobs/jr-site-reliability-engineer-python-yeah1-network-0513</a></td>\n",
       "                        <td id=\"T_fec0c5b0_c0d1_11ea_9f55_6476ba8e7e36row0_col35\" class=\"data row0 col35\" ><a href=\"https://itviec.com/it-jobs/system-engineer-linux-python-english-1cloudstar-4145\">https://itviec.com/it-jobs/system-engineer-linux-python-english-1cloudstar-4145</a></td>\n",
       "                        <td id=\"T_fec0c5b0_c0d1_11ea_9f55_6476ba8e7e36row0_col36\" class=\"data row0 col36\" ><a href=\"https://itviec.com/it-jobs/software-engineer-nodejs-python-vekaz-4657\">https://itviec.com/it-jobs/software-engineer-nodejs-python-vekaz-4657</a></td>\n",
       "                        <td id=\"T_fec0c5b0_c0d1_11ea_9f55_6476ba8e7e36row0_col37\" class=\"data row0 col37\" ><a href=\"https://itviec.com/it-jobs/senior-lead-data-engineer-python-sql-axon-2732\">https://itviec.com/it-jobs/senior-lead-data-engineer-python-sql-axon-2732</a></td>\n",
       "                        <td id=\"T_fec0c5b0_c0d1_11ea_9f55_6476ba8e7e36row0_col38\" class=\"data row0 col38\" ><a href=\"https://itviec.com/it-jobs/senior-backend-dev-ruby-python-elixir-yojee-0429\">https://itviec.com/it-jobs/senior-backend-dev-ruby-python-elixir-yojee-0429</a></td>\n",
       "                        <td id=\"T_fec0c5b0_c0d1_11ea_9f55_6476ba8e7e36row0_col39\" class=\"data row0 col39\" ><a href=\"https://itviec.com/it-jobs/data-engineer-java-python-scala-filum-ai-4023\">https://itviec.com/it-jobs/data-engineer-java-python-scala-filum-ai-4023</a></td>\n",
       "                        <td id=\"T_fec0c5b0_c0d1_11ea_9f55_6476ba8e7e36row0_col40\" class=\"data row0 col40\" ><a href=\"https://itviec.com/it-jobs/sr-software-engineer-java-python-data-m_service-momo-3141\">https://itviec.com/it-jobs/sr-software-engineer-java-python-data-m_service-momo-3141</a></td>\n",
       "                        <td id=\"T_fec0c5b0_c0d1_11ea_9f55_6476ba8e7e36row0_col41\" class=\"data row0 col41\" ><a href=\"https://itviec.com/it-jobs/5-fullstack-developer-java-python-net-identalsoft-3019\">https://itviec.com/it-jobs/5-fullstack-developer-java-python-net-identalsoft-3019</a></td>\n",
       "                        <td id=\"T_fec0c5b0_c0d1_11ea_9f55_6476ba8e7e36row0_col42\" class=\"data row0 col42\" ><a href=\"https://itviec.com/it-jobs/02-web-developer-php-python-javascript-h-ctiv8-3308\">https://itviec.com/it-jobs/02-web-developer-php-python-javascript-h-ctiv8-3308</a></td>\n",
       "                        <td id=\"T_fec0c5b0_c0d1_11ea_9f55_6476ba8e7e36row0_col43\" class=\"data row0 col43\" ><a href=\"https://itviec.com/it-jobs/web-developer-python-nodejs-golang-bright-star-media-1927\">https://itviec.com/it-jobs/web-developer-python-nodejs-golang-bright-star-media-1927</a></td>\n",
       "                        <td id=\"T_fec0c5b0_c0d1_11ea_9f55_6476ba8e7e36row0_col44\" class=\"data row0 col44\" ><a href=\"https://itviec.com/it-jobs/software-engineer-python-reactjs-cinnamon-ai-labs-4436\">https://itviec.com/it-jobs/software-engineer-python-reactjs-cinnamon-ai-labs-4436</a></td>\n",
       "                        <td id=\"T_fec0c5b0_c0d1_11ea_9f55_6476ba8e7e36row0_col45\" class=\"data row0 col45\" ><a href=\"https://itviec.com/it-jobs/data-manager-python-sql-data-studio-onpoint-5424\">https://itviec.com/it-jobs/data-manager-python-sql-data-studio-onpoint-5424</a></td>\n",
       "                        <td id=\"T_fec0c5b0_c0d1_11ea_9f55_6476ba8e7e36row0_col46\" class=\"data row0 col46\" ><a href=\"https://itviec.com/it-jobs/software-engineer-php-python-sot-5330\">https://itviec.com/it-jobs/software-engineer-php-python-sot-5330</a></td>\n",
       "                        <td id=\"T_fec0c5b0_c0d1_11ea_9f55_6476ba8e7e36row0_col47\" class=\"data row0 col47\" ><a href=\"https://itviec.com/it-jobs/developers-c-python-ivc-isb-vietnam-0850\">https://itviec.com/it-jobs/developers-c-python-ivc-isb-vietnam-0850</a></td>\n",
       "                        <td id=\"T_fec0c5b0_c0d1_11ea_9f55_6476ba8e7e36row0_col48\" class=\"data row0 col48\" ><a href=\"https://itviec.com/it-jobs/linux-programmer-c-python-skylab-3153\">https://itviec.com/it-jobs/linux-programmer-c-python-skylab-3153</a></td>\n",
       "                        <td id=\"T_fec0c5b0_c0d1_11ea_9f55_6476ba8e7e36row0_col49\" class=\"data row0 col49\" ><a href=\"https://itviec.com/it-jobs/data-engineer-python-java-vsit-3932\">https://itviec.com/it-jobs/data-engineer-python-java-vsit-3932</a></td>\n",
       "                        <td id=\"T_fec0c5b0_c0d1_11ea_9f55_6476ba8e7e36row0_col50\" class=\"data row0 col50\" ><a href=\"https://itviec.com/it-jobs/data-scientist-python-database-waves8-com-0150\">https://itviec.com/it-jobs/data-scientist-python-database-waves8-com-0150</a></td>\n",
       "                        <td id=\"T_fec0c5b0_c0d1_11ea_9f55_6476ba8e7e36row0_col51\" class=\"data row0 col51\" ><a href=\"https://itviec.com/it-jobs/ai-engineer-c-c-python-thuy-san-viet-uc-3208\">https://itviec.com/it-jobs/ai-engineer-c-c-python-thuy-san-viet-uc-3208</a></td>\n",
       "                        <td id=\"T_fec0c5b0_c0d1_11ea_9f55_6476ba8e7e36row0_col52\" class=\"data row0 col52\" ><a href=\"https://itviec.com/it-jobs/data-engineer-data-warehouse-tableau-quoine-3433\">https://itviec.com/it-jobs/data-engineer-data-warehouse-tableau-quoine-3433</a></td>\n",
       "                        <td id=\"T_fec0c5b0_c0d1_11ea_9f55_6476ba8e7e36row0_col53\" class=\"data row0 col53\" ><a href=\"https://itviec.com/it-jobs/devops-engineer-google-cloud-platform-template-net-2828\">https://itviec.com/it-jobs/devops-engineer-google-cloud-platform-template-net-2828</a></td>\n",
       "                        <td id=\"T_fec0c5b0_c0d1_11ea_9f55_6476ba8e7e36row0_col54\" class=\"data row0 col54\" ><a href=\"https://itviec.com/it-jobs/devops-engineer-java-aws-linux-python-magnolia-5545\">https://itviec.com/it-jobs/devops-engineer-java-aws-linux-python-magnolia-5545</a></td>\n",
       "                        <td id=\"T_fec0c5b0_c0d1_11ea_9f55_6476ba8e7e36row0_col55\" class=\"data row0 col55\" ><a href=\"https://itviec.com/it-jobs/it-manager-salary-up-to-3000-dac-data-science-vietnam-5128\">https://itviec.com/it-jobs/it-manager-salary-up-to-3000-dac-data-science-vietnam-5128</a></td>\n",
       "                        <td id=\"T_fec0c5b0_c0d1_11ea_9f55_6476ba8e7e36row0_col56\" class=\"data row0 col56\" ><a href=\"https://itviec.com/it-jobs/google-cloud-infra-systems-engineer-cloud-ace-2753\">https://itviec.com/it-jobs/google-cloud-infra-systems-engineer-cloud-ace-2753</a></td>\n",
       "                        <td id=\"T_fec0c5b0_c0d1_11ea_9f55_6476ba8e7e36row0_col57\" class=\"data row0 col57\" ><a href=\"https://itviec.com/it-jobs/senior-web-developer-vastbit-5214\">https://itviec.com/it-jobs/senior-web-developer-vastbit-5214</a></td>\n",
       "                        <td id=\"T_fec0c5b0_c0d1_11ea_9f55_6476ba8e7e36row0_col58\" class=\"data row0 col58\" ><a href=\"https://itviec.com/it-jobs/sr-jr-backend-java-golang-up-to-2000-encapital-financial-technology-0406\">https://itviec.com/it-jobs/sr-jr-backend-java-golang-up-to-2000-encapital-financial-technology-0406</a></td>\n",
       "                        <td id=\"T_fec0c5b0_c0d1_11ea_9f55_6476ba8e7e36row0_col59\" class=\"data row0 col59\" ><a href=\"https://itviec.com/it-jobs/senior-test-engineer-test-engineer-bridgetek-viet-nam-1359\">https://itviec.com/it-jobs/senior-test-engineer-test-engineer-bridgetek-viet-nam-1359</a></td>\n",
       "                        <td id=\"T_fec0c5b0_c0d1_11ea_9f55_6476ba8e7e36row0_col60\" class=\"data row0 col60\" ><a href=\"https://itviec.com/it-jobs/fullstack-engineer-global-fashion-group-3258\">https://itviec.com/it-jobs/fullstack-engineer-global-fashion-group-3258</a></td>\n",
       "                        <td id=\"T_fec0c5b0_c0d1_11ea_9f55_6476ba8e7e36row0_col61\" class=\"data row0 col61\" ><a href=\"https://itviec.com/it-jobs/devops-abivin-3303\">https://itviec.com/it-jobs/devops-abivin-3303</a></td>\n",
       "                        <td id=\"T_fec0c5b0_c0d1_11ea_9f55_6476ba8e7e36row0_col62\" class=\"data row0 col62\" ><a href=\"https://itviec.com/it-jobs/senior-fullstack-engineer-java-vinbrain-0135\">https://itviec.com/it-jobs/senior-fullstack-engineer-java-vinbrain-0135</a></td>\n",
       "                        <td id=\"T_fec0c5b0_c0d1_11ea_9f55_6476ba8e7e36row0_col63\" class=\"data row0 col63\" ><a href=\"https://itviec.com/it-jobs/devops-engineer-techcombank-3101\">https://itviec.com/it-jobs/devops-engineer-techcombank-3101</a></td>\n",
       "                        <td id=\"T_fec0c5b0_c0d1_11ea_9f55_6476ba8e7e36row0_col64\" class=\"data row0 col64\" ><a href=\"https://itviec.com/it-jobs/senior-back-end-developer-techcombank-3611\">https://itviec.com/it-jobs/senior-back-end-developer-techcombank-3611</a></td>\n",
       "                        <td id=\"T_fec0c5b0_c0d1_11ea_9f55_6476ba8e7e36row0_col65\" class=\"data row0 col65\" ><a href=\"https://itviec.com/it-jobs/junior-backend-developer-nodejs-itr-vn-3739\">https://itviec.com/it-jobs/junior-backend-developer-nodejs-itr-vn-3739</a></td>\n",
       "                        <td id=\"T_fec0c5b0_c0d1_11ea_9f55_6476ba8e7e36row0_col66\" class=\"data row0 col66\" ><a href=\"https://itviec.com/it-jobs/back-end-developer-php-laravel-icosoft-3220\">https://itviec.com/it-jobs/back-end-developer-php-laravel-icosoft-3220</a></td>\n",
       "                        <td id=\"T_fec0c5b0_c0d1_11ea_9f55_6476ba8e7e36row0_col67\" class=\"data row0 col67\" ><a href=\"https://itviec.com/it-jobs/fullstack-software-engineer-filum-ai-3815\">https://itviec.com/it-jobs/fullstack-software-engineer-filum-ai-3815</a></td>\n",
       "                        <td id=\"T_fec0c5b0_c0d1_11ea_9f55_6476ba8e7e36row0_col68\" class=\"data row0 col68\" ><a href=\"https://itviec.com/it-jobs/backend-developer-up-to-2000-tiki-corporation-2110\">https://itviec.com/it-jobs/backend-developer-up-to-2000-tiki-corporation-2110</a></td>\n",
       "                        <td id=\"T_fec0c5b0_c0d1_11ea_9f55_6476ba8e7e36row0_col69\" class=\"data row0 col69\" ><a href=\"https://itviec.com/it-jobs/senior-data-analyst-tinypulse-4608\">https://itviec.com/it-jobs/senior-data-analyst-tinypulse-4608</a></td>\n",
       "                        <td id=\"T_fec0c5b0_c0d1_11ea_9f55_6476ba8e7e36row0_col70\" class=\"data row0 col70\" ><a href=\"https://itviec.com/it-jobs/20-developers-java-c-net-python-usol-vietnam-1549\">https://itviec.com/it-jobs/20-developers-java-c-net-python-usol-vietnam-1549</a></td>\n",
       "                        <td id=\"T_fec0c5b0_c0d1_11ea_9f55_6476ba8e7e36row0_col71\" class=\"data row0 col71\" ><a href=\"https://itviec.com/it-jobs/fullstack-dev-reactjs-ruby-elixir-yojee-1953\">https://itviec.com/it-jobs/fullstack-dev-reactjs-ruby-elixir-yojee-1953</a></td>\n",
       "                        <td id=\"T_fec0c5b0_c0d1_11ea_9f55_6476ba8e7e36row0_col72\" class=\"data row0 col72\" ><a href=\"https://itviec.com/it-jobs/sr-embedded-firmware-engineer-axon-2553\">https://itviec.com/it-jobs/sr-embedded-firmware-engineer-axon-2553</a></td>\n",
       "                        <td id=\"T_fec0c5b0_c0d1_11ea_9f55_6476ba8e7e36row0_col73\" class=\"data row0 col73\" ><a href=\"https://itviec.com/it-jobs/data-engineer-machine-learning-engineer-knorex-2520\">https://itviec.com/it-jobs/data-engineer-machine-learning-engineer-knorex-2520</a></td>\n",
       "                        <td id=\"T_fec0c5b0_c0d1_11ea_9f55_6476ba8e7e36row0_col74\" class=\"data row0 col74\" ><a href=\"https://itviec.com/it-jobs/backend-engineer-golang-nodejs-chotot-4825\">https://itviec.com/it-jobs/backend-engineer-golang-nodejs-chotot-4825</a></td>\n",
       "                        <td id=\"T_fec0c5b0_c0d1_11ea_9f55_6476ba8e7e36row0_col75\" class=\"data row0 col75\" ><a href=\"https://itviec.com/it-jobs/data-analyst-ghn-3014\">https://itviec.com/it-jobs/data-analyst-ghn-3014</a></td>\n",
       "            </tr>\n",
       "    </tbody></table>"
      ],
      "text/plain": [
       "<pandas.io.formats.style.Styler at 0x10ec55460>"
      ]
     },
     "execution_count": 8,
     "metadata": {},
     "output_type": "execute_result"
    }
   ],
   "source": [
    "itviec = pd.DataFrame([links])\n",
    "def make_clickable(val):\n",
    "    return '<a href=\"{}\">{}</a>'.format(val,val)\n",
    "itviec.style.format(make_clickable)"
   ]
  },
  {
   "cell_type": "raw",
   "metadata": {},
   "source": [
    "\n",
    "        \n",
    "        "
   ]
  }
 ],
 "metadata": {
  "kernelspec": {
   "display_name": "Python 3",
   "language": "python",
   "name": "python3"
  },
  "language_info": {
   "codemirror_mode": {
    "name": "ipython",
    "version": 3
   },
   "file_extension": ".py",
   "mimetype": "text/x-python",
   "name": "python",
   "nbconvert_exporter": "python",
   "pygments_lexer": "ipython3",
   "version": "3.8.2"
  }
 },
 "nbformat": 4,
 "nbformat_minor": 4
}
