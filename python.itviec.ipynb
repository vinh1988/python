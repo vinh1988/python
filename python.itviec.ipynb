{
 "cells": [
  {
   "cell_type": "code",
   "execution_count": 1,
   "metadata": {},
   "outputs": [],
   "source": [
    "import bs4\n",
    "import requests\n",
    "import pandas as pd\n",
    "\n",
    "resp = requests.get('https://itviec.com/it-jobs/python')\n",
    "tree = bs4.BeautifulSoup(resp.text, features='html.parser')\n",
    "#div = tree.find('div', attrs={'class': 'first-group'})\n",
    "div = tree.find_all('h2', attrs={'class': 'title'})\n",
    "links=[]\n",
    "names=[]\n",
    "for line in div:\n",
    "    a = line.find_all('a')\n",
    "    link = 'https://itviec.com'+''.join([href['href'] for href in a])\n",
    "    names.append((line.text).replace('\\n', ''))\n",
    "    links.append((link))  \n"
   ]
  },
  {
   "cell_type": "code",
   "execution_count": null,
   "metadata": {},
   "outputs": [],
   "source": [
    "itviec = pd.DataFrame(zip(names,links), columns=['names', 'links'])\n",
    "itviec.to_csv('itviec.csv')"
   ]
  },
  {
   "cell_type": "code",
   "execution_count": 2,
   "metadata": {},
   "outputs": [
    {
     "data": {
      "text/html": [
       "<style  type=\"text/css\" >\n",
       "</style><table id=\"T_195025f6_bf2e_11ea_9f55_6476ba8e7e36\" ><thead>    <tr>        <th class=\"blank level0\" ></th>        <th class=\"col_heading level0 col0\" >0</th>        <th class=\"col_heading level0 col1\" >1</th>        <th class=\"col_heading level0 col2\" >2</th>        <th class=\"col_heading level0 col3\" >3</th>        <th class=\"col_heading level0 col4\" >4</th>        <th class=\"col_heading level0 col5\" >5</th>        <th class=\"col_heading level0 col6\" >6</th>        <th class=\"col_heading level0 col7\" >7</th>        <th class=\"col_heading level0 col8\" >8</th>        <th class=\"col_heading level0 col9\" >9</th>        <th class=\"col_heading level0 col10\" >10</th>        <th class=\"col_heading level0 col11\" >11</th>        <th class=\"col_heading level0 col12\" >12</th>        <th class=\"col_heading level0 col13\" >13</th>        <th class=\"col_heading level0 col14\" >14</th>        <th class=\"col_heading level0 col15\" >15</th>        <th class=\"col_heading level0 col16\" >16</th>        <th class=\"col_heading level0 col17\" >17</th>        <th class=\"col_heading level0 col18\" >18</th>        <th class=\"col_heading level0 col19\" >19</th>    </tr></thead><tbody>\n",
       "                <tr>\n",
       "                        <th id=\"T_195025f6_bf2e_11ea_9f55_6476ba8e7e36level0_row0\" class=\"row_heading level0 row0\" >0</th>\n",
       "                        <td id=\"T_195025f6_bf2e_11ea_9f55_6476ba8e7e36row0_col0\" class=\"data row0 col0\" ><a href=\"https://itviec.com/it-jobs/automation-test-java-python-humax-vietnam-3904\">https://itviec.com/it-jobs/automation-test-java-python-humax-vietnam-3904</a></td>\n",
       "                        <td id=\"T_195025f6_bf2e_11ea_9f55_6476ba8e7e36row0_col1\" class=\"data row0 col1\" ><a href=\"https://itviec.com/it-jobs/c-developer-python-linux-dek-technologies-5206\">https://itviec.com/it-jobs/c-developer-python-linux-dek-technologies-5206</a></td>\n",
       "                        <td id=\"T_195025f6_bf2e_11ea_9f55_6476ba8e7e36row0_col2\" class=\"data row0 col2\" ><a href=\"https://itviec.com/it-jobs/up-to-1500-python-developer-aws-neos-corp-0301\">https://itviec.com/it-jobs/up-to-1500-python-developer-aws-neos-corp-0301</a></td>\n",
       "                        <td id=\"T_195025f6_bf2e_11ea_9f55_6476ba8e7e36row0_col3\" class=\"data row0 col3\" ><a href=\"https://itviec.com/it-jobs/back-end-engineer-upinus-1554\">https://itviec.com/it-jobs/back-end-engineer-upinus-1554</a></td>\n",
       "                        <td id=\"T_195025f6_bf2e_11ea_9f55_6476ba8e7e36row0_col4\" class=\"data row0 col4\" ><a href=\"https://itviec.com/it-jobs/python-developer-cmc-sai-gon-technology-solution-5323\">https://itviec.com/it-jobs/python-developer-cmc-sai-gon-technology-solution-5323</a></td>\n",
       "                        <td id=\"T_195025f6_bf2e_11ea_9f55_6476ba8e7e36row0_col5\" class=\"data row0 col5\" ><a href=\"https://itviec.com/it-jobs/data-analytics-engineer-python-aws-panasonic-vietnam-group-panasonic-r-d-center-vietnam-prdcv-2834\">https://itviec.com/it-jobs/data-analytics-engineer-python-aws-panasonic-vietnam-group-panasonic-r-d-center-vietnam-prdcv-2834</a></td>\n",
       "                        <td id=\"T_195025f6_bf2e_11ea_9f55_6476ba8e7e36row0_col6\" class=\"data row0 col6\" ><a href=\"https://itviec.com/it-jobs/backend-dev-java-typescript-c-python-sunshine-group-4041\">https://itviec.com/it-jobs/backend-dev-java-typescript-c-python-sunshine-group-4041</a></td>\n",
       "                        <td id=\"T_195025f6_bf2e_11ea_9f55_6476ba8e7e36row0_col7\" class=\"data row0 col7\" ><a href=\"https://itviec.com/it-jobs/machine-learning-data-engineer-python-weventure-2436\">https://itviec.com/it-jobs/machine-learning-data-engineer-python-weventure-2436</a></td>\n",
       "                        <td id=\"T_195025f6_bf2e_11ea_9f55_6476ba8e7e36row0_col8\" class=\"data row0 col8\" ><a href=\"https://itviec.com/it-jobs/5g-radio-automation-tester-python-ci-dek-technologies-2745\">https://itviec.com/it-jobs/5g-radio-automation-tester-python-ci-dek-technologies-2745</a></td>\n",
       "                        <td id=\"T_195025f6_bf2e_11ea_9f55_6476ba8e7e36row0_col9\" class=\"data row0 col9\" ><a href=\"https://itviec.com/it-jobs/01-python-developer-up-to-1800-sun-inc-3834\">https://itviec.com/it-jobs/01-python-developer-up-to-1800-sun-inc-3834</a></td>\n",
       "                        <td id=\"T_195025f6_bf2e_11ea_9f55_6476ba8e7e36row0_col10\" class=\"data row0 col10\" ><a href=\"https://itviec.com/it-jobs/can-gap-2-developers-java-python-imlink-vietnam-1014\">https://itviec.com/it-jobs/can-gap-2-developers-java-python-imlink-vietnam-1014</a></td>\n",
       "                        <td id=\"T_195025f6_bf2e_11ea_9f55_6476ba8e7e36row0_col11\" class=\"data row0 col11\" ><a href=\"https://itviec.com/it-jobs/python-developer-quantic-2710\">https://itviec.com/it-jobs/python-developer-quantic-2710</a></td>\n",
       "                        <td id=\"T_195025f6_bf2e_11ea_9f55_6476ba8e7e36row0_col12\" class=\"data row0 col12\" ><a href=\"https://itviec.com/it-jobs/system-engineer-linux-python-citigo-software-1918\">https://itviec.com/it-jobs/system-engineer-linux-python-citigo-software-1918</a></td>\n",
       "                        <td id=\"T_195025f6_bf2e_11ea_9f55_6476ba8e7e36row0_col13\" class=\"data row0 col13\" ><a href=\"https://itviec.com/it-jobs/software-backend-engineer-python-golang-datvietvac-3013\">https://itviec.com/it-jobs/software-backend-engineer-python-golang-datvietvac-3013</a></td>\n",
       "                        <td id=\"T_195025f6_bf2e_11ea_9f55_6476ba8e7e36row0_col14\" class=\"data row0 col14\" ><a href=\"https://itviec.com/it-jobs/fullstack-developer-python-ruby-golang-onpoint-2543\">https://itviec.com/it-jobs/fullstack-developer-python-ruby-golang-onpoint-2543</a></td>\n",
       "                        <td id=\"T_195025f6_bf2e_11ea_9f55_6476ba8e7e36row0_col15\" class=\"data row0 col15\" ><a href=\"https://itviec.com/it-jobs/parttime-giang-vien-python-reactjs-java-he-thong-dao-tao-cntt-t3h-5759\">https://itviec.com/it-jobs/parttime-giang-vien-python-reactjs-java-he-thong-dao-tao-cntt-t3h-5759</a></td>\n",
       "                        <td id=\"T_195025f6_bf2e_11ea_9f55_6476ba8e7e36row0_col16\" class=\"data row0 col16\" ><a href=\"https://itviec.com/it-jobs/php-python-developer-sql-cong-ty-tnhh-dynastras-viet-nam-5210\">https://itviec.com/it-jobs/php-python-developer-sql-cong-ty-tnhh-dynastras-viet-nam-5210</a></td>\n",
       "                        <td id=\"T_195025f6_bf2e_11ea_9f55_6476ba8e7e36row0_col17\" class=\"data row0 col17\" ><a href=\"https://itviec.com/it-jobs/data-scientist-r-python-upto-2000-gene-solutions-3035\">https://itviec.com/it-jobs/data-scientist-r-python-upto-2000-gene-solutions-3035</a></td>\n",
       "                        <td id=\"T_195025f6_bf2e_11ea_9f55_6476ba8e7e36row0_col18\" class=\"data row0 col18\" ><a href=\"https://itviec.com/it-jobs/software-engineer-c-python-golang-opswat-software-vietnam-0238\">https://itviec.com/it-jobs/software-engineer-c-python-golang-opswat-software-vietnam-0238</a></td>\n",
       "                        <td id=\"T_195025f6_bf2e_11ea_9f55_6476ba8e7e36row0_col19\" class=\"data row0 col19\" ><a href=\"https://itviec.com/it-jobs/jr-site-reliability-engineer-python-yeah1-network-0513\">https://itviec.com/it-jobs/jr-site-reliability-engineer-python-yeah1-network-0513</a></td>\n",
       "            </tr>\n",
       "    </tbody></table>"
      ],
      "text/plain": [
       "<pandas.io.formats.style.Styler at 0x10f9e5f70>"
      ]
     },
     "execution_count": 2,
     "metadata": {},
     "output_type": "execute_result"
    }
   ],
   "source": [
    "itviec = pd.DataFrame([links])\n",
    "def make_clickable(val):\n",
    "    return '<a href=\"{}\">{}</a>'.format(val,val)\n",
    "itviec.style.format(make_clickable)"
   ]
  },
  {
   "cell_type": "raw",
   "metadata": {},
   "source": [
    "\n",
    "        \n",
    "        "
   ]
  }
 ],
 "metadata": {
  "kernelspec": {
   "display_name": "Python 3",
   "language": "python",
   "name": "python3"
  },
  "language_info": {
   "codemirror_mode": {
    "name": "ipython",
    "version": 3
   },
   "file_extension": ".py",
   "mimetype": "text/x-python",
   "name": "python",
   "nbconvert_exporter": "python",
   "pygments_lexer": "ipython3",
   "version": "3.8.2"
  }
 },
 "nbformat": 4,
 "nbformat_minor": 4
}
