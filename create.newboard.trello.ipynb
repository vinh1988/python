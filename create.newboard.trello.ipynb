{
 "cells": [
  {
   "cell_type": "code",
   "execution_count": 1,
   "metadata": {},
   "outputs": [
    {
     "name": "stdout",
     "output_type": "stream",
     "text": [
      "{\"id\":\"5f046dc62d3dfa18edeec08d\",\"name\":\"new1\",\"desc\":\"\",\"descData\":null,\"closed\":false,\"idOrganization\":null,\"idEnterprise\":null,\"pinned\":false,\"url\":\"https://trello.com/b/cgGtzW0M/new1\",\"shortUrl\":\"https://trello.com/b/cgGtzW0M\",\"prefs\":{\"permissionLevel\":\"private\",\"hideVotes\":false,\"voting\":\"disabled\",\"comments\":\"members\",\"invitations\":\"members\",\"selfJoin\":true,\"cardCovers\":true,\"isTemplate\":false,\"cardAging\":\"regular\",\"calendarFeedEnabled\":false,\"background\":\"blue\",\"backgroundImage\":null,\"backgroundImageScaled\":null,\"backgroundTile\":false,\"backgroundBrightness\":\"dark\",\"backgroundColor\":\"#0079BF\",\"backgroundBottomColor\":\"#0079BF\",\"backgroundTopColor\":\"#0079BF\",\"canBePublic\":true,\"canBeEnterprise\":true,\"canBeOrg\":true,\"canBePrivate\":true,\"canInvite\":true},\"labelNames\":{\"green\":\"\",\"yellow\":\"\",\"orange\":\"\",\"red\":\"\",\"purple\":\"\",\"blue\":\"\",\"sky\":\"\",\"lime\":\"\",\"pink\":\"\",\"black\":\"\"},\"limits\":{}}\n"
     ]
    }
   ],
   "source": [
    "import requests\n",
    "\n",
    "url = \"https://api.trello.com/1/boards/\"\n",
    "\n",
    "query = {\n",
    "   'key': 'fb392e20ec73ead3cb6fe326917cb9b8',\n",
    "   'token': 'b1d147dce6701c17ca339bd7680aaf0e0a4f93f3a8d854d40fde155cc90a41e7',\n",
    "   'name': 'new1'\n",
    "}\n",
    "\n",
    "response = requests.request(\n",
    "   \"POST\",\n",
    "   url,\n",
    "   params=query\n",
    ")\n",
    "\n",
    "print(response.text)"
   ]
  },
  {
   "cell_type": "code",
   "execution_count": 7,
   "metadata": {},
   "outputs": [
    {
     "name": "stdout",
     "output_type": "stream",
     "text": [
      "{\"id\":\"5f0542d9dae848844300b2a3\",\"checkItemStates\":[],\"closed\":false,\"dateLastActivity\":\"2020-07-08T03:51:53.332Z\",\"desc\":\"\",\"descData\":{\"emoji\":{}},\"dueReminder\":null,\"idBoard\":\"5f046dc62d3dfa18edeec08d\",\"idList\":\"5f046dc62d3dfa18edeec08e\",\"idMembersVoted\":[],\"idShort\":2,\"idAttachmentCover\":null,\"idLabels\":[],\"manualCoverAttachment\":false,\"name\":\"\",\"pos\":81919,\"shortLink\":\"JKNjbMka\",\"isTemplate\":false,\"dueComplete\":false,\"due\":null,\"email\":null,\"labels\":[],\"shortUrl\":\"https://trello.com/c/JKNjbMka\",\"url\":\"https://trello.com/c/JKNjbMka/2--\",\"cover\":{\"idAttachment\":null,\"color\":null,\"idUploadedBackground\":null,\"size\":\"normal\",\"brightness\":\"light\"},\"idMembers\":[],\"badges\":{\"attachmentsByType\":{\"trello\":{\"board\":0,\"card\":0}},\"location\":false,\"votes\":0,\"viewingMemberVoted\":false,\"subscribed\":false,\"fogbugz\":\"\",\"checkItems\":0,\"checkItemsChecked\":0,\"checkItemsEarliestDue\":null,\"comments\":0,\"attachments\":0,\"description\":false,\"due\":null,\"dueComplete\":false},\"subscribed\":false,\"attachments\":[],\"idChecklists\":[],\"stickers\":[],\"limits\":{}}\n"
     ]
    }
   ],
   "source": [
    "\n",
    "\n",
    "url = \"https://api.trello.com/1/cards\"\n",
    "\n",
    "query = {\n",
    "   'key': 'fb392e20ec73ead3cb6fe326917cb9b8',\n",
    "   'token': 'b1d147dce6701c17ca339bd7680aaf0e0a4f93f3a8d854d40fde155cc90a41e7',\n",
    "   'idList': '5f046dc62d3dfa18edeec08e'\n",
    "}\n",
    "\n",
    "response = requests.request(\n",
    "   \"POST\",\n",
    "   url,\n",
    "   params=query\n",
    ")\n",
    "\n",
    "print(response.text)"
   ]
  },
  {
   "cell_type": "code",
   "execution_count": null,
   "metadata": {},
   "outputs": [],
   "source": []
  },
  {
   "cell_type": "code",
   "execution_count": null,
   "metadata": {},
   "outputs": [],
   "source": []
  }
 ],
 "metadata": {
  "kernelspec": {
   "display_name": "Python 3",
   "language": "python",
   "name": "python3"
  },
  "language_info": {
   "codemirror_mode": {
    "name": "ipython",
    "version": 3
   },
   "file_extension": ".py",
   "mimetype": "text/x-python",
   "name": "python",
   "nbconvert_exporter": "python",
   "pygments_lexer": "ipython3",
   "version": "3.8.2"
  }
 },
 "nbformat": 4,
 "nbformat_minor": 4
}
